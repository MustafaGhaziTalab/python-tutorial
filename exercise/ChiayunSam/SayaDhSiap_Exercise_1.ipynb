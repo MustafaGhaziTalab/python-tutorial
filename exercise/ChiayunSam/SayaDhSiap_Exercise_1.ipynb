{
  "nbformat": 4,
  "nbformat_minor": 0,
  "metadata": {
    "colab": {
      "provenance": [],
      "toc_visible": true,
      "authorship_tag": "ABX9TyMK3RoqHOlK3aZY6kwQ5gE7",
      "include_colab_link": true
    },
    "kernelspec": {
      "name": "python3",
      "display_name": "Python 3"
    },
    "language_info": {
      "name": "python"
    }
  },
  "cells": [
    {
      "cell_type": "markdown",
      "metadata": {
        "id": "view-in-github",
        "colab_type": "text"
      },
      "source": [
        "<a href=\"https://colab.research.google.com/github/drshahizan/python-tutorial/blob/main/exercise/ChiayunSam/SayaDhSiap_Exercise_1.ipynb\" target=\"_parent\"><img src=\"https://colab.research.google.com/assets/colab-badge.svg\" alt=\"Open In Colab\"/></a>"
      ]
    },
    {
      "cell_type": "code",
      "execution_count": null,
      "metadata": {
        "id": "PQiUcT7fbQxd"
      },
      "outputs": [],
      "source": []
    },
    {
      "cell_type": "markdown",
      "source": [
        "#SAM CHIA YUN\n",
        "# Basic Information\n",
        "## Hello world\n",
        "\n",
        "#### HELLO WORLD\n",
        "\n",
        "#### HELLO WORLD\n",
        "\n",
        "##### HELLO WORLD\n"
      ],
      "metadata": {
        "id": "dOBKKzKFbZ0A"
      }
    },
    {
      "cell_type": "markdown",
      "source": [
        "Python, a programming language with a legacy spanning nearly three decades, boasts a storied and influential past."
      ],
      "metadata": {
        "id": "GER6-GZkb5Fu"
      }
    },
    {
      "cell_type": "code",
      "source": [
        "pip install numpy"
      ],
      "metadata": {
        "colab": {
          "base_uri": "https://localhost:8080/"
        },
        "id": "1-x0LWVwcNDD",
        "outputId": "bc3c6f05-5a75-47cc-81b5-27a05efa02c5"
      },
      "execution_count": null,
      "outputs": [
        {
          "output_type": "stream",
          "name": "stdout",
          "text": [
            "Requirement already satisfied: numpy in /usr/local/lib/python3.10/dist-packages (1.23.5)\n"
          ]
        }
      ]
    },
    {
      "cell_type": "markdown",
      "source": [
        "# Section 1\n",
        "# Section 2\n",
        "## Sub-section under Section 2\n",
        "### Sub-section under the sub-section under Section 2\n",
        "# Section 3\n",
        "\n"
      ],
      "metadata": {
        "id": "NSN5QmWectF7"
      }
    },
    {
      "cell_type": "markdown",
      "source": [
        ">One level of indentation\n",
        ">>Two level of indentation"
      ],
      "metadata": {
        "id": "9ZOw6Nylcugv"
      }
    },
    {
      "cell_type": "markdown",
      "source": [
        "```python\n",
        "print(\"a\")\n",
        "```"
      ],
      "metadata": {
        "id": "rpyNa4Bbc_RW"
      }
    },
    {
      "cell_type": "markdown",
      "source": [
        "1. One\n",
        "1. Two\n",
        "1. Three"
      ],
      "metadata": {
        "id": "dGD8w-ixdANk"
      }
    },
    {
      "cell_type": "markdown",
      "source": [
        "* One\n",
        "* Two\n",
        "* Three"
      ],
      "metadata": {
        "id": "LP46gTjudFSo"
      }
    },
    {
      "cell_type": "markdown",
      "source": [
        "$y=x^2$\n",
        "\n",
        "$e^{i\\pi} + 1 = 0$\n",
        "\n",
        "$e^x=\\sum_{i=0}^\\infty \\frac{1}{i!}x^i$\n",
        "\n",
        "$\\frac{n!}{k!(n-k)!} = {n \\choose k}$\n",
        "\n",
        "$A_{m,n} =\n",
        " \\begin{pmatrix}\n",
        "  a_{1,1} & a_{1,2} & \\cdots & a_{1,n} \\\\\n",
        "  a_{2,1} & a_{2,2} & \\cdots & a_{2,n} \\\\\n",
        "  \\vdots  & \\vdots  & \\ddots & \\vdots  \\\\\n",
        "  a_{m,1} & a_{m,2} & \\cdots & a_{m,n}\n",
        " \\end{pmatrix}$"
      ],
      "metadata": {
        "id": "yDH6BcTQdJwe"
      }
    },
    {
      "cell_type": "markdown",
      "source": [
        "First column name  | Second column name\n",
        "-------------------|------------------\n",
        "Row 1, Col 1       | Row 1, Col 2\n",
        "Row 2, Col 1       | Row 2, Col 2"
      ],
      "metadata": {
        "id": "6ZAHpj29dMlP"
      }
    },
    {
      "cell_type": "markdown",
      "source": [
        "---"
      ],
      "metadata": {
        "id": "LGFuezAgdO3N"
      }
    },
    {
      "cell_type": "markdown",
      "source": [],
      "metadata": {
        "id": "30Wm2qfDdQEj"
      }
    }
  ]
}