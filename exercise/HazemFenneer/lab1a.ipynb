{
  "cells": [
    {
      "cell_type": "markdown",
      "metadata": {
        "id": "pGUbLum0PmgK"
      },
      "source": [
        "# Lab 1a - Understanding Your Data"
      ]
    },
    {
      "cell_type": "markdown",
      "metadata": {
        "id": "n-DWtPqgPmgK"
      },
      "source": [
        "Please use the [**Chipotle Sales dataset**](https://raw.githubusercontent.com/drshahizan/dataset/main/pandas/chipotle.tsv) for this exercise."
      ]
    },
    {
      "cell_type": "markdown",
      "metadata": {
        "id": "M19mI54QPmgL"
      },
      "source": [
        "\n",
        "\n",
        "### Step 1. Import the necessary libraries"
      ]
    },
    {
      "cell_type": "code",
      "execution_count": 1,
      "metadata": {
        "id": "vk9TJLzbPmgL"
      },
      "outputs": [],
      "source": [
        "import pandas as pd"
      ]
    },
    {
      "cell_type": "markdown",
      "metadata": {
        "id": "wD3rkKtuPmgL"
      },
      "source": [
        "### Step 2. Import the dataset from this [address](https://raw.githubusercontent.com/drshahizan/dataset/main/pandas/chipotle.tsv)."
      ]
    },
    {
      "cell_type": "markdown",
      "metadata": {
        "id": "8wzXm6yvPmgL"
      },
      "source": [
        "### Step 3. Assign it to a variable called chipo."
      ]
    },
    {
      "cell_type": "code",
      "execution_count": 2,
      "metadata": {
        "id": "WmAhnAzePmgL"
      },
      "outputs": [],
      "source": [
        "data = pd.read_csv('chipotle.tsv', sep='\\t', index_col='order_id')"
      ]
    },
    {
      "cell_type": "markdown",
      "metadata": {
        "id": "NVu3Ers7PmgM"
      },
      "source": [
        "### Step 4. See the first 10 entries"
      ]
    },
    {
      "cell_type": "code",
      "execution_count": 3,
      "metadata": {
        "scrolled": false,
        "colab": {
          "base_uri": "https://localhost:8080/"
        },
        "id": "QHxXWf0UPmgM",
        "outputId": "f4b6ce43-79c5-4750-a7c4-ecf92d801bf1"
      },
      "outputs": [
        {
          "output_type": "stream",
          "name": "stdout",
          "text": [
            "          quantity                              item_name  \\\n",
            "order_id                                                    \n",
            "1                1           Chips and Fresh Tomato Salsa   \n",
            "1                1                                   Izze   \n",
            "1                1                       Nantucket Nectar   \n",
            "1                1  Chips and Tomatillo-Green Chili Salsa   \n",
            "2                2                           Chicken Bowl   \n",
            "3                1                           Chicken Bowl   \n",
            "3                1                          Side of Chips   \n",
            "4                1                          Steak Burrito   \n",
            "4                1                       Steak Soft Tacos   \n",
            "5                1                          Steak Burrito   \n",
            "\n",
            "                                         choice_description item_price  \n",
            "order_id                                                                \n",
            "1                                                       NaN     $2.39   \n",
            "1                                              [Clementine]     $3.39   \n",
            "1                                                   [Apple]     $3.39   \n",
            "1                                                       NaN     $2.39   \n",
            "2         [Tomatillo-Red Chili Salsa (Hot), [Black Beans...    $16.98   \n",
            "3         [Fresh Tomato Salsa (Mild), [Rice, Cheese, Sou...    $10.98   \n",
            "3                                                       NaN     $1.69   \n",
            "4         [Tomatillo Red Chili Salsa, [Fajita Vegetables...    $11.75   \n",
            "4         [Tomatillo Green Chili Salsa, [Pinto Beans, Ch...     $9.25   \n",
            "5         [Fresh Tomato Salsa, [Rice, Black Beans, Pinto...     $9.25   \n"
          ]
        }
      ],
      "source": [
        "first25= data.head(10)\n",
        "print(first25)"
      ]
    },
    {
      "cell_type": "markdown",
      "metadata": {
        "id": "RJZdcClAPmgM"
      },
      "source": [
        "### Step 5. What is the number of observations in the dataset?"
      ]
    },
    {
      "cell_type": "code",
      "execution_count": 4,
      "metadata": {
        "colab": {
          "base_uri": "https://localhost:8080/"
        },
        "id": "v-WjLSDwPmgM",
        "outputId": "4573480a-c9aa-46fd-dad2-4db3854c4d08"
      },
      "outputs": [
        {
          "output_type": "stream",
          "name": "stdout",
          "text": [
            "n of observers are: 4622\n"
          ]
        }
      ],
      "source": [
        "# Solution 1\n",
        "\n",
        "num_observation=data.shape[0]\n",
        "print(\"n of observers are:\", num_observation)"
      ]
    },
    {
      "cell_type": "code",
      "execution_count": 5,
      "metadata": {
        "colab": {
          "base_uri": "https://localhost:8080/"
        },
        "id": "RAWx891fPmgM",
        "outputId": "121b37b5-0ade-45c2-b6f8-f51d2b633326"
      },
      "outputs": [
        {
          "output_type": "stream",
          "name": "stdout",
          "text": [
            "n of observers are: 4622\n"
          ]
        }
      ],
      "source": [
        "# Solution 2\n",
        "\n",
        "num_observation=len(data)\n",
        "print(\"n of observers are:\", num_observation)"
      ]
    },
    {
      "cell_type": "markdown",
      "metadata": {
        "id": "6ZFaWf7xPmgM"
      },
      "source": [
        "### Step 6. What is the number of columns in the dataset?"
      ]
    },
    {
      "cell_type": "code",
      "execution_count": 6,
      "metadata": {
        "colab": {
          "base_uri": "https://localhost:8080/"
        },
        "id": "jJgVjscVPmgM",
        "outputId": "f0826cd5-f187-438b-84b8-6b5b8142587e"
      },
      "outputs": [
        {
          "output_type": "stream",
          "name": "stdout",
          "text": [
            "N of columns are: 4\n"
          ]
        }
      ],
      "source": [
        "num_column=data.shape[1]\n",
        "print(\"N of columns are:\", num_column)"
      ]
    },
    {
      "cell_type": "markdown",
      "metadata": {
        "id": "2INDGcT-PmgN"
      },
      "source": [
        "### Step 7. Print the name of all the columns."
      ]
    },
    {
      "cell_type": "code",
      "execution_count": 7,
      "metadata": {
        "colab": {
          "base_uri": "https://localhost:8080/"
        },
        "id": "SaQp9EbOPmgN",
        "outputId": "8b6bb118-a688-4ffe-9e0a-5e2c46b09db3"
      },
      "outputs": [
        {
          "output_type": "stream",
          "name": "stdout",
          "text": [
            "Column names are:\n",
            "quantity\n",
            "item_name\n",
            "choice_description\n",
            "item_price\n"
          ]
        }
      ],
      "source": [
        "column_names=data.columns\n",
        "print(\"Column names are:\")\n",
        "for c in column_names:\n",
        "  print(c)"
      ]
    },
    {
      "cell_type": "markdown",
      "metadata": {
        "id": "HyurtelWPmgN"
      },
      "source": [
        "### Step 8. How is the dataset indexed?"
      ]
    },
    {
      "cell_type": "code",
      "execution_count": 8,
      "metadata": {
        "colab": {
          "base_uri": "https://localhost:8080/"
        },
        "id": "POn86G17PmgN",
        "outputId": "b483818b-1efd-4720-9090-c7c6526e9c8b"
      },
      "outputs": [
        {
          "output_type": "stream",
          "name": "stdout",
          "text": [
            "Index of the dataset: Int64Index([   1,    1,    1,    1,    2,    3,    3,    4,    4,    5,\n",
            "            ...\n",
            "            1831, 1831, 1831, 1832, 1832, 1833, 1833, 1834, 1834, 1834],\n",
            "           dtype='int64', name='order_id', length=4622)\n"
          ]
        }
      ],
      "source": [
        "index_info=data.index\n",
        "print(\"Index of the dataset:\", index_info)"
      ]
    },
    {
      "cell_type": "markdown",
      "metadata": {
        "id": "jkV-yGWtPmgN"
      },
      "source": [
        "### Step 9. Which was the most-ordered item?"
      ]
    },
    {
      "cell_type": "code",
      "execution_count": 14,
      "metadata": {
        "colab": {
          "base_uri": "https://localhost:8080/"
        },
        "id": "MY2PQgSuPmgN",
        "outputId": "d77d6ce8-5248-4a8c-8402-ae483c0420af"
      },
      "outputs": [
        {
          "output_type": "stream",
          "name": "stdout",
          "text": [
            "most orderd item is:  Chicken Bowl\n"
          ]
        }
      ],
      "source": [
        "most_item=data['item_name'].value_counts().idxmax()\n",
        "print(\"most orderd item is: \", most_item)"
      ]
    },
    {
      "cell_type": "markdown",
      "metadata": {
        "id": "ijayNrr1PmgN"
      },
      "source": [
        "### Step 10. For the most-ordered item, how many items were ordered?"
      ]
    },
    {
      "cell_type": "code",
      "execution_count": 15,
      "metadata": {
        "colab": {
          "base_uri": "https://localhost:8080/"
        },
        "id": "jRoUQrbsPmgN",
        "outputId": "d51ccf3e-346f-4710-ac96-c94bbe9627ca"
      },
      "outputs": [
        {
          "output_type": "stream",
          "name": "stdout",
          "text": [
            "number of itme orderd is:  726\n"
          ]
        }
      ],
      "source": [
        "count_most_order=data['item_name'].value_counts().max()\n",
        "print(\"number of itme orderd is: \", count_most_order)"
      ]
    },
    {
      "cell_type": "markdown",
      "metadata": {
        "id": "nQ5sEPLjPmgN"
      },
      "source": [
        "### Step 11. What was the most ordered item in the choice_description column?"
      ]
    },
    {
      "cell_type": "code",
      "execution_count": 13,
      "metadata": {
        "colab": {
          "base_uri": "https://localhost:8080/"
        },
        "id": "1QnvBiHfPmgP",
        "outputId": "8db7b71f-a74a-465a-a7c5-3582da3c7c2c"
      },
      "outputs": [
        {
          "output_type": "stream",
          "name": "stdout",
          "text": [
            "most orderd item in choice description is:  [Diet Coke]\n"
          ]
        }
      ],
      "source": [
        "most_item_inchoice=data['choice_description'].value_counts().idxmax()\n",
        "print(\"most orderd item in choice description is: \", most_item_inchoice)"
      ]
    },
    {
      "cell_type": "markdown",
      "metadata": {
        "id": "rOpafNBQPmgP"
      },
      "source": [
        "### Step 12. How many items were orderd in total?"
      ]
    },
    {
      "cell_type": "code",
      "execution_count": null,
      "metadata": {
        "id": "lyPkRy7kPmgP"
      },
      "outputs": [],
      "source": []
    },
    {
      "cell_type": "markdown",
      "metadata": {
        "id": "ertp_gRoPmgP"
      },
      "source": [
        "### Step 13. Turn the item price into a float"
      ]
    },
    {
      "cell_type": "markdown",
      "metadata": {
        "id": "iqe6uMatPmgP"
      },
      "source": [
        "#### Step 13.a. Check the item price type"
      ]
    },
    {
      "cell_type": "code",
      "execution_count": null,
      "metadata": {
        "id": "xyQYRwzTPmgP"
      },
      "outputs": [],
      "source": []
    },
    {
      "cell_type": "markdown",
      "metadata": {
        "id": "bjFoptGPPmgQ"
      },
      "source": [
        "#### Step 13.b. Create a lambda function and change the type of item price"
      ]
    },
    {
      "cell_type": "code",
      "execution_count": null,
      "metadata": {
        "collapsed": true,
        "id": "9GMH0CJ3PmgQ"
      },
      "outputs": [],
      "source": []
    },
    {
      "cell_type": "markdown",
      "metadata": {
        "id": "XZZihOCsPmgQ"
      },
      "source": [
        "#### Step 13.c. Check the item price type"
      ]
    },
    {
      "cell_type": "code",
      "execution_count": null,
      "metadata": {
        "id": "sz0h4jHwPmgQ"
      },
      "outputs": [],
      "source": []
    },
    {
      "cell_type": "markdown",
      "metadata": {
        "id": "S2hwSRbPPmgQ"
      },
      "source": [
        "### Step 14. How much was the revenue for the period in the dataset?"
      ]
    },
    {
      "cell_type": "code",
      "execution_count": null,
      "metadata": {
        "id": "j8wKGsbtPmgQ"
      },
      "outputs": [],
      "source": []
    },
    {
      "cell_type": "markdown",
      "metadata": {
        "id": "R1JizpMEPmgQ"
      },
      "source": [
        "### Step 15. How many orders were made in the period?"
      ]
    },
    {
      "cell_type": "code",
      "execution_count": null,
      "metadata": {
        "id": "fuRHQIdOPmgQ"
      },
      "outputs": [],
      "source": []
    },
    {
      "cell_type": "markdown",
      "metadata": {
        "id": "WqieaXxiPmgQ"
      },
      "source": [
        "### Step 16. What is the average revenue amount per order?"
      ]
    },
    {
      "cell_type": "code",
      "execution_count": null,
      "metadata": {
        "id": "IHS14o-QPmgQ"
      },
      "outputs": [],
      "source": [
        "# Solution 1\n",
        "\n"
      ]
    },
    {
      "cell_type": "code",
      "execution_count": null,
      "metadata": {
        "id": "bgdMkvebPmgU"
      },
      "outputs": [],
      "source": [
        "# Solution 2\n",
        "\n"
      ]
    },
    {
      "cell_type": "markdown",
      "metadata": {
        "id": "XHnLPaoJPmgV"
      },
      "source": [
        "### Step 17. How many different items are sold?"
      ]
    },
    {
      "cell_type": "code",
      "execution_count": null,
      "metadata": {
        "id": "Xn0TOLNtPmgV"
      },
      "outputs": [],
      "source": []
    }
  ],
  "metadata": {
    "anaconda-cloud": {},
    "kernelspec": {
      "display_name": "Python [default]",
      "language": "python",
      "name": "python2"
    },
    "language_info": {
      "codemirror_mode": {
        "name": "ipython",
        "version": 2
      },
      "file_extension": ".py",
      "mimetype": "text/x-python",
      "name": "python",
      "nbconvert_exporter": "python",
      "pygments_lexer": "ipython2",
      "version": "2.7.12"
    },
    "colab": {
      "provenance": []
    }
  },
  "nbformat": 4,
  "nbformat_minor": 0
}