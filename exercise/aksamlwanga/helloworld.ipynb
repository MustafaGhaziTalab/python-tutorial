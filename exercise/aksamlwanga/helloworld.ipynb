{
  "nbformat": 4,
  "nbformat_minor": 0,
  "metadata": {
    "colab": {
      "provenance": [],
      "authorship_tag": "ABX9TyMs23lvwO/G3POiaOQyEqr/",
      "include_colab_link": true
    },
    "kernelspec": {
      "name": "python3",
      "display_name": "Python 3"
    },
    "language_info": {
      "name": "python"
    }
  },
  "cells": [
    {
      "cell_type": "markdown",
      "metadata": {
        "id": "view-in-github",
        "colab_type": "text"
      },
      "source": [
        "<a href=\"https://colab.research.google.com/github/drshahizan/python-tutorial/blob/main/exercise/aksamlwanga/helloworld.ipynb\" target=\"_parent\"><img src=\"https://colab.research.google.com/assets/colab-badge.svg\" alt=\"Open In Colab\"/></a>"
      ]
    },
    {
      "cell_type": "code",
      "execution_count": null,
      "metadata": {
        "id": "Laix-aGeQFH5"
      },
      "outputs": [],
      "source": []
    },
    {
      "cell_type": "markdown",
      "source": [],
      "metadata": {
        "id": "v1T5CWXQQrbJ"
      }
    },
    {
      "cell_type": "markdown",
      "source": [
        "#Hello World\n",
        "##Hello World\n",
        "###Hello World\n",
        "####Hello World\n"
      ],
      "metadata": {
        "id": "VCpKER5fQK06"
      }
    },
    {
      "cell_type": "code",
      "source": [],
      "metadata": {
        "id": "Rr84Pg-NQubw"
      },
      "execution_count": null,
      "outputs": []
    },
    {
      "cell_type": "markdown",
      "source": [
        " #My Info\n",
        "# LWANGA AKSAM"
      ],
      "metadata": {
        "id": "dS6Uwg9YQuxN"
      }
    },
    {
      "cell_type": "code",
      "source": [
        "pip install pandas"
      ],
      "metadata": {
        "id": "Bx9GOexJQ_wB"
      },
      "execution_count": null,
      "outputs": []
    },
    {
      "cell_type": "code",
      "source": [
        "import panda as pd"
      ],
      "metadata": {
        "id": "FfeGLwvcRkOK"
      },
      "execution_count": null,
      "outputs": []
    }
  ]
}