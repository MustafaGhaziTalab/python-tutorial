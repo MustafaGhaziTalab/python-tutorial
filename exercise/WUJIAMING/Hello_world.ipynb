{
  "nbformat": 4,
  "nbformat_minor": 0,
  "metadata": {
    "colab": {
      "provenance": [],
      "toc_visible": true,
      "authorship_tag": "ABX9TyOr4QEvBoGcBZvnYWYYaWBW",
      "include_colab_link": true
    },
    "kernelspec": {
      "name": "python3",
      "display_name": "Python 3"
    },
    "language_info": {
      "name": "python"
    }
  },
  "cells": [
    {
      "cell_type": "markdown",
      "metadata": {
        "id": "view-in-github",
        "colab_type": "text"
      },
      "source": [
        "<a href=\"https://colab.research.google.com/github/drshahizan/python-tutorial/blob/main/exercise/WUJIAMING/Hello_world.ipynb\" target=\"_parent\"><img src=\"https://colab.research.google.com/assets/colab-badge.svg\" alt=\"Open In Colab\"/></a>"
      ]
    },
    {
      "cell_type": "markdown",
      "source": [
        "#Hello World\n",
        "##Hello World\n",
        "###Hello World\n",
        "####Hello World"
      ],
      "metadata": {
        "id": "yPoo766ZQKKa"
      }
    },
    {
      "cell_type": "markdown",
      "source": [
        "#My Info"
      ],
      "metadata": {
        "id": "_0QNVk9cQcgz"
      }
    },
    {
      "cell_type": "code",
      "execution_count": null,
      "metadata": {
        "id": "oJwB-chOQFNl"
      },
      "outputs": [],
      "source": [
        "import"
      ]
    }
  ]
}