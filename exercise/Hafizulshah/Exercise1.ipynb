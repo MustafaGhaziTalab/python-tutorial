{
  "nbformat": 4,
  "nbformat_minor": 0,
  "metadata": {
    "colab": {
      "provenance": [],
      "toc_visible": true,
      "authorship_tag": "ABX9TyOh3/UxxQTCRJwShn3ELeCQ",
      "include_colab_link": true
    },
    "kernelspec": {
      "name": "python3",
      "display_name": "Python 3"
    },
    "language_info": {
      "name": "python"
    }
  },
  "cells": [
    {
      "cell_type": "markdown",
      "metadata": {
        "id": "view-in-github",
        "colab_type": "text"
      },
      "source": [
        "<a href=\"https://colab.research.google.com/github/drshahizan/python-tutorial/blob/main/exercise/Hafizulshah/Exercise1.ipynb\" target=\"_parent\"><img src=\"https://colab.research.google.com/assets/colab-badge.svg\" alt=\"Open In Colab\"/></a>"
      ]
    },
    {
      "cell_type": "code",
      "execution_count": null,
      "metadata": {
        "id": "2KbxGNTlbhCe"
      },
      "outputs": [],
      "source": []
    },
    {
      "cell_type": "markdown",
      "source": [
        "# Basic Information\n",
        "\n",
        "## Hello World\n",
        "### Hello World\n",
        "#### Hello World\n",
        "\n",
        "Lorem ipsum dolor sit amet, consectetur adipiscing elit. Nulla mollis purus et dui volutpat, id rhoncus tortor faucibus. Praesent luctus enim sed sollicitudin porta. Proin eu neque eu nunc egestas porttitor sit amet at elit. Vestibulum scelerisque, ex eget malesuada lacinia, ex purus vestibulum metus, et elementum leo orci et felis. Suspendisse interdum tincidunt nisl fermentum pellentesque. Pellentesque nec massa eu erat elementum tincidunt. Morbi sed justo efficitur, cursus magna at, pellentesque odio. Pellentesque habitant morbi tristique senectus et netus et malesuada fames ac turpis egestas. Pellentesque at purus a elit pellentesque semper a id urna. Sed sit amet risus aliquam, pharetra odio sed, tristique lorem. Lorem ipsum dolor sit amet, consectetur adipiscing elit. Donec nunc nisl, facilisis fermentum consectetur vitae, eleifend nec augue. Aenean nisl sapien, accumsan ac eleifend et, tempor eleifend ante."
      ],
      "metadata": {
        "id": "ZwTB-fcWb_-F"
      }
    },
    {
      "cell_type": "code",
      "source": [
        "%pip install numpy\n",
        "%pip install pandas"
      ],
      "metadata": {
        "colab": {
          "base_uri": "https://localhost:8080/"
        },
        "id": "IgKsmOuMcGXi",
        "outputId": "73a613fb-32df-409d-c7f0-68a89a4766b8"
      },
      "execution_count": 1,
      "outputs": [
        {
          "output_type": "stream",
          "name": "stdout",
          "text": [
            "Requirement already satisfied: numpy in /usr/local/lib/python3.10/dist-packages (1.23.5)\n",
            "Requirement already satisfied: pandas in /usr/local/lib/python3.10/dist-packages (1.5.3)\n",
            "Requirement already satisfied: python-dateutil>=2.8.1 in /usr/local/lib/python3.10/dist-packages (from pandas) (2.8.2)\n",
            "Requirement already satisfied: pytz>=2020.1 in /usr/local/lib/python3.10/dist-packages (from pandas) (2023.3.post1)\n",
            "Requirement already satisfied: numpy>=1.21.0 in /usr/local/lib/python3.10/dist-packages (from pandas) (1.23.5)\n",
            "Requirement already satisfied: six>=1.5 in /usr/local/lib/python3.10/dist-packages (from python-dateutil>=2.8.1->pandas) (1.16.0)\n"
          ]
        }
      ]
    },
    {
      "cell_type": "markdown",
      "source": [
        "The table of contents, available on the left side of Colab, is populated using at most one section title from each text cell.\n",
        "\n",
        "---\n",
        "\n",
        "```markdown\n",
        ">One level of indentation\n",
        "```\n",
        "\n",
        ">One level of indentation\n",
        "\n",
        "\n",
        "```markdown\n",
        ">>Two levels of indentation\n",
        "```\n",
        "\n",
        ">>Two levels of indentation\n",
        "\n",
        "---\n",
        "\n",
        "Code blocks\n",
        "\n",
        "````\n",
        "```python\n",
        "print(\"a\")\n",
        "```\n",
        "````\n",
        "\n",
        "```python\n",
        "print(\"a\")\n",
        "```\n",
        "\n",
        "---\n",
        "\n",
        "Ordered lists:\n",
        "```markdown\n",
        "1. One\n",
        "1. Two\n",
        "1. Three\n",
        "```\n",
        "1. One\n",
        "1. Two\n",
        "1. Three\n",
        "\n",
        "---\n",
        "\n",
        "Unordered lists:\n",
        "```markdown\n",
        "* One\n",
        "* Two\n",
        "* Three\n",
        "```\n",
        "* One\n",
        "* Two\n",
        "* Three\n",
        "\n",
        "---\n",
        "\n",
        "Equations:\n",
        "\n",
        "```markdown\n",
        "$y=x^2$\n",
        "\n",
        "$e^{i\\pi} + 1 = 0$\n",
        "\n",
        "$e^x=\\sum_{i=0}^\\infty \\frac{1}{i!}x^i$\n",
        "\n",
        "$\\frac{n!}{k!(n-k)!} = {n \\choose k}$\n",
        "\n",
        "$A_{m,n} =\n",
        " \\begin{pmatrix}\n",
        "  a_{1,1} & a_{1,2} & \\cdots & a_{1,n} \\\\\n",
        "  a_{2,1} & a_{2,2} & \\cdots & a_{2,n} \\\\\n",
        "  \\vdots  & \\vdots  & \\ddots & \\vdots  \\\\\n",
        "  a_{m,1} & a_{m,2} & \\cdots & a_{m,n}\n",
        " \\end{pmatrix}$\n",
        "```\n",
        "\n",
        "$y=x^2$\n",
        "\n",
        "$e^{i\\pi} + 1 = 0$\n",
        "\n",
        "$e^x=\\sum_{i=0}^\\infty \\frac{1}{i!}x^i$\n",
        "\n",
        "$\\frac{n!}{k!(n-k)!} = {n \\choose k}$\n",
        "\n",
        "$A_{m,n} =\n",
        " \\begin{pmatrix}\n",
        "  a_{1,1} & a_{1,2} & \\cdots & a_{1,n} \\\\\n",
        "  a_{2,1} & a_{2,2} & \\cdots & a_{2,n} \\\\\n",
        "  \\vdots  & \\vdots  & \\ddots & \\vdots  \\\\\n",
        "  a_{m,1} & a_{m,2} & \\cdots & a_{m,n}\n",
        " \\end{pmatrix}$\n",
        "\n",
        "\n",
        " ---\n",
        "\n",
        "Tables:\n",
        "```markdown\n",
        "First column name  | Second column name\n",
        "-------------------|------------------\n",
        "Row 1, Col 1       | Row 1, Col 2\n",
        "Row 2, Col 1       | Row 2, Col 2\n",
        "\n",
        "```\n",
        "\n",
        "First column name  | Second column name\n",
        "-------------------|------------------\n",
        "Row 1, Col 1       | Row 1, Col 2\n",
        "Row 2, Col 1       | Row 2, Col 2\n",
        "\n",
        "---\n",
        "\n",
        "Horizontal rules:\n",
        "```markdown\n",
        "---\n",
        "```\n",
        "\n",
        "---"
      ],
      "metadata": {
        "id": "5vJmT9zmdq_O"
      }
    }
  ]
}