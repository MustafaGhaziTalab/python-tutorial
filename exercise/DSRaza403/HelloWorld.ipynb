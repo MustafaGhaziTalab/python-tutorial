{
  "nbformat": 4,
  "nbformat_minor": 0,
  "metadata": {
    "colab": {
      "provenance": [],
      "authorship_tag": "ABX9TyNUPRw9qcLOLw2K/ttCvxAh",
      "include_colab_link": true
    },
    "kernelspec": {
      "name": "python3",
      "display_name": "Python 3"
    },
    "language_info": {
      "name": "python"
    }
  },
  "cells": [
    {
      "cell_type": "markdown",
      "metadata": {
        "id": "view-in-github",
        "colab_type": "text"
      },
      "source": [
        "<a href=\"https://colab.research.google.com/github/drshahizan/python-tutorial/blob/main/exercise/DSRaza403/HelloWorld.ipynb\" target=\"_parent\"><img src=\"https://colab.research.google.com/assets/colab-badge.svg\" alt=\"Open In Colab\"/></a>"
      ]
    },
    {
      "cell_type": "code",
      "execution_count": 1,
      "metadata": {
        "id": "upTRX1-jQW7A"
      },
      "outputs": [],
      "source": [
        "# Hello World\n",
        "## Hello World\n",
        "\n",
        "###Hello World\n",
        "##### Hello World\n"
      ]
    },
    {
      "cell_type": "markdown",
      "source": [
        "# Hello World\n",
        "## Hello World\n",
        "\n",
        "###Hello World\n",
        "##### Hello World\n"
      ],
      "metadata": {
        "id": "LhwsFlwDQqBd"
      }
    },
    {
      "cell_type": "markdown",
      "source": [],
      "metadata": {
        "id": "x8roqwhyQdtr"
      }
    },
    {
      "cell_type": "code",
      "source": [
        "import random\n",
        "print(\"Hello\")\n",
        "print(random.randrange(10))\n",
        "\n"
      ],
      "metadata": {
        "colab": {
          "base_uri": "https://localhost:8080/"
        },
        "id": "sZ3IwizZQ6Z_",
        "outputId": "85992a2e-9002-49d1-90e9-a674e348aa00"
      },
      "execution_count": 5,
      "outputs": [
        {
          "output_type": "stream",
          "name": "stdout",
          "text": [
            "Hello\n",
            "3\n"
          ]
        }
      ]
    }
  ]
}