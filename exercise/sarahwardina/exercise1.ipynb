{
  "nbformat": 4,
  "nbformat_minor": 0,
  "metadata": {
    "colab": {
      "provenance": [],
      "toc_visible": true,
      "authorship_tag": "ABX9TyOMbi5o+bv48ImtfJ5OfDZq",
      "include_colab_link": true
    },
    "kernelspec": {
      "name": "python3",
      "display_name": "Python 3"
    },
    "language_info": {
      "name": "python"
    }
  },
  "cells": [
    {
      "cell_type": "markdown",
      "metadata": {
        "id": "view-in-github",
        "colab_type": "text"
      },
      "source": [
        "<a href=\"https://colab.research.google.com/github/drshahizan/python-tutorial/blob/main/exercise/sarahwardina/exercise1.ipynb\" target=\"_parent\"><img src=\"https://colab.research.google.com/assets/colab-badge.svg\" alt=\"Open In Colab\"/></a>"
      ]
    },
    {
      "cell_type": "code",
      "execution_count": null,
      "metadata": {
        "id": "yqu52qh7bQz9"
      },
      "outputs": [],
      "source": []
    },
    {
      "cell_type": "markdown",
      "source": [
        "# Basic Information\n",
        "\n",
        "## Hello World\n",
        "### Hello World\n",
        "#### Hello World"
      ],
      "metadata": {
        "id": "CNml5THNbd9f"
      }
    },
    {
      "cell_type": "markdown",
      "source": [
        "**Google** **Colab**, short for Google Colaboratory, is a free cloud-based platform that provides a convenient environment for machine learning and data science enthusiasts."
      ],
      "metadata": {
        "id": "SY13qadyb7yT"
      }
    },
    {
      "cell_type": "code",
      "source": [
        "!pip install numpy"
      ],
      "metadata": {
        "colab": {
          "base_uri": "https://localhost:8080/"
        },
        "id": "xtlxUCttcR6_",
        "outputId": "7f71505b-4a4b-4222-b152-ee957a89031c"
      },
      "execution_count": 4,
      "outputs": [
        {
          "output_type": "stream",
          "name": "stdout",
          "text": [
            "Requirement already satisfied: numpy in /usr/local/lib/python3.10/dist-packages (1.23.5)\n"
          ]
        }
      ]
    },
    {
      "cell_type": "markdown",
      "source": [
        "# Section 1\n",
        "# Section 2\n",
        "## Sub-section under Section 2\n",
        "### Sub-section under the sub-section under Section 2\n",
        "# Section 3"
      ],
      "metadata": {
        "id": "JdKWc8uGc4U0"
      }
    },
    {
      "cell_type": "markdown",
      "source": [
        "The table of contents, available on the left side of Colab, is populated using at most one section title from each text cell."
      ],
      "metadata": {
        "id": "oDXZVclNdn6P"
      }
    },
    {
      "cell_type": "markdown",
      "source": [
        ">One level of indentation"
      ],
      "metadata": {
        "id": "ZzGUsGrNd4Uo"
      }
    },
    {
      "cell_type": "markdown",
      "source": [
        ">>Two levels of indentation"
      ],
      "metadata": {
        "id": "50ecXYyDd5Z6"
      }
    },
    {
      "cell_type": "markdown",
      "source": [
        "Code Blocks:"
      ],
      "metadata": {
        "id": "rWiC_zfgd-Jj"
      }
    },
    {
      "cell_type": "markdown",
      "source": [
        "```python\n",
        "print(\"a\")\n",
        "```"
      ],
      "metadata": {
        "id": "o9mi1cXeeyq9"
      }
    },
    {
      "cell_type": "markdown",
      "source": [
        "1. One\n",
        "1. Two\n",
        "1. Three"
      ],
      "metadata": {
        "id": "Mv6BntNxfMcS"
      }
    },
    {
      "cell_type": "markdown",
      "source": [
        "Unordered List:"
      ],
      "metadata": {
        "id": "uO5NINnZhKrN"
      }
    },
    {
      "cell_type": "markdown",
      "source": [
        "* One\n",
        "* Two\n",
        "* Three"
      ],
      "metadata": {
        "id": "IwPGaMfofY7w"
      }
    },
    {
      "cell_type": "markdown",
      "source": [
        "Equations:"
      ],
      "metadata": {
        "id": "JObHkqtMhQs3"
      }
    },
    {
      "cell_type": "markdown",
      "source": [
        "$y=x^2$\n",
        "\n",
        "$e^{i\\pi} + 1 = 0$\n",
        "\n",
        "$e^x=\\sum_{i=0}^\\infty \\frac{1}{i!}x^i$\n",
        "\n",
        "$\\frac{n!}{k!(n-k)!} = {n \\choose k}$\n",
        "\n",
        "$A_{m,n} =\n",
        " \\begin{pmatrix}\n",
        "  a_{1,1} & a_{1,2} & \\cdots & a_{1,n} \\\\\n",
        "  a_{2,1} & a_{2,2} & \\cdots & a_{2,n} \\\\\n",
        "  \\vdots  & \\vdots  & \\ddots & \\vdots  \\\\\n",
        "  a_{m,1} & a_{m,2} & \\cdots & a_{m,n}\n",
        " \\end{pmatrix}$"
      ],
      "metadata": {
        "id": "RoBDJerAhU-d"
      }
    },
    {
      "cell_type": "markdown",
      "source": [],
      "metadata": {
        "id": "c4BFn0amhWf7"
      }
    }
  ]
}