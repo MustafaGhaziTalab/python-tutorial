{
  "nbformat": 4,
  "nbformat_minor": 0,
  "metadata": {
    "colab": {
      "provenance": [],
      "toc_visible": true,
      "authorship_tag": "ABX9TyNDp/4i5bbHmB9wdpmoRpst",
      "include_colab_link": true
    },
    "kernelspec": {
      "name": "python3",
      "display_name": "Python 3"
    },
    "language_info": {
      "name": "python"
    }
  },
  "cells": [
    {
      "cell_type": "markdown",
      "metadata": {
        "id": "view-in-github",
        "colab_type": "text"
      },
      "source": [
        "<a href=\"https://colab.research.google.com/github/drshahizan/python-tutorial/blob/main/exercise/harithothman/exer1.ipynb\" target=\"_parent\"><img src=\"https://colab.research.google.com/assets/colab-badge.svg\" alt=\"Open In Colab\"/></a>"
      ]
    },
    {
      "cell_type": "code",
      "execution_count": null,
      "metadata": {
        "id": "2Z5RIOTcbPnA"
      },
      "outputs": [],
      "source": [
        "HARITH HAKIM"
      ]
    },
    {
      "cell_type": "markdown",
      "source": [
        "# Basic Information\n",
        "\n",
        "## Hello World\n",
        "### Hello World\n",
        "#### Hello World\n",
        "##### Hello World"
      ],
      "metadata": {
        "id": "PLlOZiaYbXCR"
      }
    },
    {
      "cell_type": "markdown",
      "source": [
        "Google Colab, short for Google Colaboratory, is a free cloud-based platform that provides a convenient environment for machine learning and data science enthusiasts. It offers a Jupyter Notebook-like interface, allowing users to run and write code in Python through their web browsers without the need for any setup. Colab comes equipped with access to powerful GPUs, making it ideal for resource-intensive tasks like deep learning and large-scale data analysis. With easy sharing options, collaborative features, and integration with Google Drive, it's a versatile tool for individuals and teams to experiment, prototype, and develop projects without the hassle of configuring local environments."
      ],
      "metadata": {
        "id": "C9JqFIZib7GN"
      }
    },
    {
      "cell_type": "code",
      "source": [
        "import numpy as py"
      ],
      "metadata": {
        "id": "Txm4Qql2cMHl"
      },
      "execution_count": null,
      "outputs": []
    },
    {
      "cell_type": "markdown",
      "source": [
        "# Section 1\n",
        "# Section 2\n",
        "## Sub-section under Section 2\n",
        "### Sub-section under the sub-section under Section 2\n",
        "# Section 3"
      ],
      "metadata": {
        "id": "03o68VJ2c9oS"
      }
    },
    {
      "cell_type": "markdown",
      "source": [
        ">One level of indentation"
      ],
      "metadata": {
        "id": "GRbm_kIydGdm"
      }
    },
    {
      "cell_type": "markdown",
      "source": [
        ">>Two levels of indentation\n",
        "\n",
        "```python\n",
        "print(\"a\")\n",
        "```\n",
        "\n",
        "print(\"a\")"
      ],
      "metadata": {
        "id": "5NUXLctXdJSi"
      }
    },
    {
      "cell_type": "markdown",
      "source": [
        "1. One\n",
        "1. Two\n",
        "1. Three\n",
        "\n",
        "* One\n",
        "* Two\n",
        "* Three\n",
        "\n",
        "$y=x^2$\n",
        "\n",
        "$e^{i\\pi} + 1 = 0$\n",
        "\n",
        "$e^x=\\sum_{i=0}^\\infty \\frac{1}{i!}x^i$\n",
        "\n",
        "$\\frac{n!}{k!(n-k)!} = {n \\choose k}$\n",
        "\n",
        "$A_{m,n} =\n",
        " \\begin{pmatrix}\n",
        "  a_{1,1} & a_{1,2} & \\cdots & a_{1,n} \\\\\n",
        "  a_{2,1} & a_{2,2} & \\cdots & a_{2,n} \\\\\n",
        "  \\vdots  & \\vdots  & \\ddots & \\vdots  \\\\\n",
        "  a_{m,1} & a_{m,2} & \\cdots & a_{m,n}\n",
        " \\end{pmatrix}$\n",
        "\n",
        "\n",
        "\n",
        " First column name  | Second column name\n",
        "-------------------|------------------\n",
        "Row 1, Col 1       | Row 1, Col 2\n",
        "Row 2, Col 1       | Row 2, Col 2\n",
        "\n",
        "---"
      ],
      "metadata": {
        "id": "fQHOsXqGdf0F"
      }
    }
  ]
}