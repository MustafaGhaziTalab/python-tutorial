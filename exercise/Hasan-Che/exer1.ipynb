{
  "nbformat": 4,
  "nbformat_minor": 0,
  "metadata": {
    "colab": {
      "provenance": [],
      "toc_visible": true,
      "authorship_tag": "ABX9TyPNUX+qzJBQvL+SUsoJ1h1O",
      "include_colab_link": true
    },
    "kernelspec": {
      "name": "python3",
      "display_name": "Python 3"
    },
    "language_info": {
      "name": "python"
    }
  },
  "cells": [
    {
      "cell_type": "markdown",
      "metadata": {
        "id": "view-in-github",
        "colab_type": "text"
      },
      "source": [
        "<a href=\"https://colab.research.google.com/github/drshahizan/python-tutorial/blob/main/exercise/Hasan-Che/exer1(collab).ipynb\" target=\"_parent\"><img src=\"https://colab.research.google.com/assets/colab-badge.svg\" alt=\"Open In Colab\"/></a>"
      ]
    },
    {
      "cell_type": "markdown",
      "source": [
        "# ***MUHAMMAD HASAN BIN CHE ABDULLAH***\n",
        "# ***A21EC0077***"
      ],
      "metadata": {
        "id": "D-jHwgQUf2oZ"
      }
    },
    {
      "cell_type": "markdown",
      "source": [
        "# Basic Information\n",
        "\n",
        "## Hello World\n",
        "\n",
        "### Hello World\n",
        "\n",
        "#### Hello World\n"
      ],
      "metadata": {
        "id": "IAWyiD6-bbiA"
      }
    },
    {
      "cell_type": "markdown",
      "source": [
        "*Python* For Data Science: Basic, Jupyter Notebook:, NumPy, SciPy - Linear Algebra,: Pandas, Sci:kit-Learn, Matplotlib, Seaborn, Bokeh. By: **DataCamp** ✈"
      ],
      "metadata": {
        "id": "AtSn4xoab4Rd"
      }
    },
    {
      "cell_type": "code",
      "source": [
        "pip help install"
      ],
      "metadata": {
        "colab": {
          "base_uri": "https://localhost:8080/"
        },
        "id": "-FbVVB7jcZ_h",
        "outputId": "9a9c339e-2bbc-4a5a-b1b1-9331637325c0"
      },
      "execution_count": 2,
      "outputs": [
        {
          "output_type": "stream",
          "name": "stdout",
          "text": [
            "\n",
            "Usage:   \n",
            "  pip3 install [options] <requirement specifier> [package-index-options] ...\n",
            "  pip3 install [options] -r <requirements file> [package-index-options] ...\n",
            "  pip3 install [options] [-e] <vcs project url> ...\n",
            "  pip3 install [options] [-e] <local project path> ...\n",
            "  pip3 install [options] <archive url/path> ...\n",
            "\n",
            "Description:\n",
            "  Install packages from:\n",
            "  \n",
            "  - PyPI (and other indexes) using requirement specifiers.\n",
            "  - VCS project urls.\n",
            "  - Local project directories.\n",
            "  - Local or remote source archives.\n",
            "  \n",
            "  pip also supports installing from \"requirements files\", which provide\n",
            "  an easy way to specify a whole environment to be installed.\n",
            "\n",
            "Install Options:\n",
            "  -r, --requirement <file>    Install from the given requirements file. This option can be used\n",
            "                              multiple times.\n",
            "  -c, --constraint <file>     Constrain versions using the given constraints file. This option can\n",
            "                              be used multiple times.\n",
            "  --no-deps                   Don't install package dependencies.\n",
            "  --pre                       Include pre-release and development versions. By default, pip only\n",
            "                              finds stable versions.\n",
            "  -e, --editable <path/url>   Install a project in editable mode (i.e. setuptools \"develop mode\")\n",
            "                              from a local project path or a VCS url.\n",
            "  --dry-run                   Don't actually install anything, just print what would be. Can be\n",
            "                              used in combination with --ignore-installed to 'resolve' the\n",
            "                              requirements.\n",
            "  -t, --target <dir>          Install packages into <dir>. By default this will not replace\n",
            "                              existing files/folders in <dir>. Use --upgrade to replace existing\n",
            "                              packages in <dir> with new versions.\n",
            "  --platform <platform>       Only use wheels compatible with <platform>. Defaults to the platform\n",
            "                              of the running system. Use this option multiple times to specify\n",
            "                              multiple platforms supported by the target interpreter.\n",
            "  --python-version <python_version>\n",
            "                              The Python interpreter version to use for wheel and \"Requires-\n",
            "                              Python\" compatibility checks. Defaults to a version derived from the\n",
            "                              running interpreter. The version can be specified using up to three\n",
            "                              dot-separated integers (e.g. \"3\" for 3.0.0, \"3.7\" for 3.7.0, or\n",
            "                              \"3.7.3\"). A major-minor version can also be given as a string\n",
            "                              without dots (e.g. \"37\" for 3.7.0).\n",
            "  --implementation <implementation>\n",
            "                              Only use wheels compatible with Python implementation\n",
            "                              <implementation>, e.g. 'pp', 'jy', 'cp',  or 'ip'. If not specified,\n",
            "                              then the current interpreter implementation is used.  Use 'py' to\n",
            "                              force implementation-agnostic wheels.\n",
            "  --abi <abi>                 Only use wheels compatible with Python abi <abi>, e.g. 'pypy_41'. If\n",
            "                              not specified, then the current interpreter abi tag is used. Use\n",
            "                              this option multiple times to specify multiple abis supported by the\n",
            "                              target interpreter. Generally you will need to specify\n",
            "                              --implementation, --platform, and --python-version when using this\n",
            "                              option.\n",
            "  --user                      Install to the Python user install directory for your platform.\n",
            "                              Typically ~/.local/, or %APPDATA%\\Python on Windows. (See the Python\n",
            "                              documentation for site.USER_BASE for full details.)\n",
            "  --root <dir>                Install everything relative to this alternate root directory.\n",
            "  --prefix <dir>              Installation prefix where lib, bin and other top-level folders are\n",
            "                              placed. Note that the resulting installation may contain scripts and\n",
            "                              other resources which reference the Python interpreter of pip, and\n",
            "                              not that of ``--prefix``. See also the ``--python`` option if the\n",
            "                              intention is to install packages into another (possibly pip-free)\n",
            "                              environment.\n",
            "  --src <dir>                 Directory to check out editable projects into. The default in a\n",
            "                              virtualenv is \"<venv path>/src\". The default for global installs is\n",
            "                              \"<current dir>/src\".\n",
            "  -U, --upgrade               Upgrade all specified packages to the newest available version. The\n",
            "                              handling of dependencies depends on the upgrade-strategy used.\n",
            "  --upgrade-strategy <upgrade_strategy>\n",
            "                              Determines how dependency upgrading should be handled [default:\n",
            "                              only-if-needed]. \"eager\" - dependencies are upgraded regardless of\n",
            "                              whether the currently installed version satisfies the requirements\n",
            "                              of the upgraded package(s). \"only-if-needed\" -  are upgraded only\n",
            "                              when they do not satisfy the requirements of the upgraded\n",
            "                              package(s).\n",
            "  --force-reinstall           Reinstall all packages even if they are already up-to-date.\n",
            "  -I, --ignore-installed      Ignore the installed packages, overwriting them. This can break your\n",
            "                              system if the existing package is of a different version or was\n",
            "                              installed with a different package manager!\n",
            "  --ignore-requires-python    Ignore the Requires-Python information.\n",
            "  --no-build-isolation        Disable isolation when building a modern source distribution. Build\n",
            "                              dependencies specified by PEP 518 must be already installed if this\n",
            "                              option is used.\n",
            "  --use-pep517                Use PEP 517 for building source distributions (use --no-use-pep517\n",
            "                              to force legacy behaviour).\n",
            "  --check-build-dependencies  Check the build dependencies when PEP517 is used.\n",
            "  --break-system-packages     Allow pip to modify an EXTERNALLY-MANAGED Python installation\n",
            "  -C, --config-settings <settings>\n",
            "                              Configuration settings to be passed to the PEP 517 build backend.\n",
            "                              Settings take the form KEY=VALUE. Use multiple --config-settings\n",
            "                              options to pass multiple keys to the backend.\n",
            "  --global-option <options>   Extra global options to be supplied to the setup.py call before the\n",
            "                              install or bdist_wheel command.\n",
            "  --compile                   Compile Python source files to bytecode\n",
            "  --no-compile                Do not compile Python source files to bytecode\n",
            "  --no-warn-script-location   Do not warn when installing scripts outside PATH\n",
            "  --no-warn-conflicts         Do not warn about broken dependencies\n",
            "  --no-binary <format_control>\n",
            "                              Do not use binary packages. Can be supplied multiple times, and each\n",
            "                              time adds to the existing value. Accepts either \":all:\" to disable\n",
            "                              all binary packages, \":none:\" to empty the set (notice the colons),\n",
            "                              or one or more package names with commas between them (no colons).\n",
            "                              Note that some packages are tricky to compile and may fail to\n",
            "                              install when this option is used on them.\n",
            "  --only-binary <format_control>\n",
            "                              Do not use source packages. Can be supplied multiple times, and each\n",
            "                              time adds to the existing value. Accepts either \":all:\" to disable\n",
            "                              all source packages, \":none:\" to empty the set, or one or more\n",
            "                              package names with commas between them. Packages without binary\n",
            "                              distributions will fail to install when this option is used on them.\n",
            "  --prefer-binary             Prefer older binary packages over newer source packages.\n",
            "  --require-hashes            Require a hash to check each requirement against, for repeatable\n",
            "                              installs. This option is implied when any package in a requirements\n",
            "                              file has a --hash option.\n",
            "  --progress-bar <progress_bar>\n",
            "                              Specify whether the progress bar should be used [on, off] (default:\n",
            "                              on)\n",
            "  --root-user-action <root_user_action>\n",
            "                              Action if pip is run as a root user. By default, a warning message\n",
            "                              is shown.\n",
            "  --report <file>             Generate a JSON file describing what pip did to install the provided\n",
            "                              requirements. Can be used in combination with --dry-run and\n",
            "                              --ignore-installed to 'resolve' the requirements. When - is used as\n",
            "                              file name it writes to stdout. When writing to stdout, please\n",
            "                              combine with the --quiet option to avoid mixing pip logging output\n",
            "                              with JSON output.\n",
            "  --no-clean                  Don't clean up build directories.\n",
            "\n",
            "Package Index Options:\n",
            "  -i, --index-url <url>       Base URL of the Python Package Index (default\n",
            "                              https://pypi.org/simple). This should point to a repository\n",
            "                              compliant with PEP 503 (the simple repository API) or a local\n",
            "                              directory laid out in the same format.\n",
            "  --extra-index-url <url>     Extra URLs of package indexes to use in addition to --index-url.\n",
            "                              Should follow the same rules as --index-url.\n",
            "  --no-index                  Ignore package index (only looking at --find-links URLs instead).\n",
            "  -f, --find-links <url>      If a URL or path to an html file, then parse for links to archives\n",
            "                              such as sdist (.tar.gz) or wheel (.whl) files. If a local path or\n",
            "                              file:// URL that's a directory, then look for archives in the\n",
            "                              directory listing. Links to VCS project URLs are not supported.\n",
            "\n",
            "General Options:\n",
            "  -h, --help                  Show help.\n",
            "  --debug                     Let unhandled exceptions propagate outside the main subroutine,\n",
            "                              instead of logging them to stderr.\n",
            "  --isolated                  Run pip in an isolated mode, ignoring environment variables and user\n",
            "                              configuration.\n",
            "  --require-virtualenv        Allow pip to only run in a virtual environment; exit with an error\n",
            "                              otherwise.\n",
            "  --python <python>           Run pip with the specified Python interpreter.\n",
            "  -v, --verbose               Give more output. Option is additive, and can be used up to 3 times.\n",
            "  -V, --version               Show version and exit.\n",
            "  -q, --quiet                 Give less output. Option is additive, and can be used up to 3 times\n",
            "                              (corresponding to WARNING, ERROR, and CRITICAL logging levels).\n",
            "  --log <path>                Path to a verbose appending log.\n",
            "  --no-input                  Disable prompting for input.\n",
            "  --keyring-provider <keyring_provider>\n",
            "                              Enable the credential lookup via the keyring library if user input\n",
            "                              is allowed. Specify which mechanism to use [disabled, import,\n",
            "                              subprocess]. (default: disabled)\n",
            "  --proxy <proxy>             Specify a proxy in the form\n",
            "                              scheme://[user:passwd@]proxy.server:port.\n",
            "  --retries <retries>         Maximum number of retries each connection should attempt (default 5\n",
            "                              times).\n",
            "  --timeout <sec>             Set the socket timeout (default 15 seconds).\n",
            "  --exists-action <action>    Default action when a path already exists: (s)witch, (i)gnore,\n",
            "                              (w)ipe, (b)ackup, (a)bort.\n",
            "  --trusted-host <hostname>   Mark this host or host:port pair as trusted, even though it does not\n",
            "                              have valid or any HTTPS.\n",
            "  --cert <path>               Path to PEM-encoded CA certificate bundle. If provided, overrides\n",
            "                              the default. See 'SSL Certificate Verification' in pip documentation\n",
            "                              for more information.\n",
            "  --client-cert <path>        Path to SSL client certificate, a single file containing the private\n",
            "                              key and the certificate in PEM format.\n",
            "  --cache-dir <dir>           Store the cache data in <dir>.\n",
            "  --no-cache-dir              Disable the cache.\n",
            "  --disable-pip-version-check\n",
            "                              Don't periodically check PyPI to determine whether a new version of\n",
            "                              pip is available for download. Implied with --no-index.\n",
            "  --no-color                  Suppress colored output.\n",
            "  --no-python-version-warning\n",
            "                              Silence deprecation warnings for upcoming unsupported Pythons.\n",
            "  --use-feature <feature>     Enable new functionality, that may be backward incompatible.\n",
            "  --use-deprecated <feature>  Enable deprecated functionality, that will be removed in the future.\n"
          ]
        }
      ]
    },
    {
      "cell_type": "markdown",
      "source": [
        "## Reference\n",
        "\n",
        "Markdown | Preview\n",
        "--- | ---\n",
        "`**bold text**` | **bold text**\n",
        "`*italicized text*` or `_italicized text_` | *italicized text*\n",
        "`` `Monospace` `` | `Monospace`\n",
        "`~~strikethrough~~` | ~~strikethrough~~\n",
        "`[A link](https://www.google.com)` | [A link](https://www.google.com)\n",
        "`![An image](https://www.google.com/images/rss.png)` | ![An image](https://www.google.com/images/rss.png)\n",
        "\n",
        "\n"
      ],
      "metadata": {
        "id": "B61a6yocc6Zu"
      }
    },
    {
      "cell_type": "markdown",
      "source": [
        "---\n",
        "Headings are rendered as titles.\n",
        "\n",
        "```markdown\n",
        "# Section 1\n",
        "# Section 2\n",
        "## Sub-section under Section 2\n",
        "### Sub-section under the sub-section under Section 2\n",
        "# Section 3\n",
        "```\n",
        "\n",
        "# Section 1\n",
        "# Section 2\n",
        "## Sub-section under Section 2\n",
        "### Sub-section under the sub-section under Section 2\n",
        "# Section 3\n",
        "\n"
      ],
      "metadata": {
        "id": "cZxjOLxqdBHz"
      }
    },
    {
      "cell_type": "markdown",
      "source": [
        "The table of contents, available on the left side of Colab, is populated using at most one section title from each text cell.\n",
        "\n",
        "---\n",
        "\n",
        "```markdown\n",
        ">One level of indentation\n",
        "```\n",
        "\n",
        ">One level of indentation\n",
        "\n",
        "\n",
        "```markdown\n",
        ">>Two levels of indentation\n",
        "```\n",
        "\n",
        ">>Two levels of indentation\n",
        "\n",
        "---\n",
        "\n"
      ],
      "metadata": {
        "id": "frx1xb3OdVgn"
      }
    },
    {
      "cell_type": "markdown",
      "source": [
        "Code blocks\n",
        "\n",
        "````\n",
        "```python\n",
        "print(\"a\")\n",
        "```\n",
        "````\n",
        "\n",
        "```python\n",
        "print(\"a\")\n",
        "```\n",
        "\n",
        "---\n",
        "\n"
      ],
      "metadata": {
        "id": "z9FTMxRGdahV"
      }
    },
    {
      "cell_type": "markdown",
      "source": [
        "Ordered lists:\n",
        "```markdown\n",
        "1. One\n",
        "1. Two\n",
        "1. Three\n",
        "```\n",
        "1. One\n",
        "1. Two\n",
        "1. Three\n",
        "\n",
        "---\n",
        "\n"
      ],
      "metadata": {
        "id": "AAFjSaN0dg_H"
      }
    },
    {
      "cell_type": "markdown",
      "source": [
        "Unordered lists:\n",
        "```markdown\n",
        "* One\n",
        "* Two\n",
        "* Three\n",
        "```\n",
        "* One\n",
        "* Two\n",
        "* Three\n",
        "\n",
        "---\n",
        "\n"
      ],
      "metadata": {
        "id": "rrS3SKvJdjFc"
      }
    },
    {
      "cell_type": "markdown",
      "source": [
        "Equations:\n",
        "\n",
        "```markdown\n",
        "$y=x^2$\n",
        "\n",
        "$e^{i\\pi} + 1 = 0$\n",
        "\n",
        "$e^x=\\sum_{i=0}^\\infty \\frac{1}{i!}x^i$\n",
        "\n",
        "$\\frac{n!}{k!(n-k)!} = {n \\choose k}$\n",
        "\n",
        "$A_{m,n} =\n",
        " \\begin{pmatrix}\n",
        "  a_{1,1} & a_{1,2} & \\cdots & a_{1,n} \\\\\n",
        "  a_{2,1} & a_{2,2} & \\cdots & a_{2,n} \\\\\n",
        "  \\vdots  & \\vdots  & \\ddots & \\vdots  \\\\\n",
        "  a_{m,1} & a_{m,2} & \\cdots & a_{m,n}\n",
        " \\end{pmatrix}$\n",
        "```\n",
        "\n",
        "$y=x^2$\n",
        "\n",
        "$e^{i\\pi} + 1 = 0$\n",
        "\n",
        "$e^x=\\sum_{i=0}^\\infty \\frac{1}{i!}x^i$\n",
        "\n",
        "$\\frac{n!}{k!(n-k)!} = {n \\choose k}$\n",
        "\n",
        "$A_{m,n} =\n",
        " \\begin{pmatrix}\n",
        "  a_{1,1} & a_{1,2} & \\cdots & a_{1,n} \\\\\n",
        "  a_{2,1} & a_{2,2} & \\cdots & a_{2,n} \\\\\n",
        "  \\vdots  & \\vdots  & \\ddots & \\vdots  \\\\\n",
        "  a_{m,1} & a_{m,2} & \\cdots & a_{m,n}\n",
        " \\end{pmatrix}$\n",
        "\n",
        "\n",
        " ---\n",
        "\n",
        "\n",
        "\n",
        "\n"
      ],
      "metadata": {
        "id": "d5KnUo7DdlRx"
      }
    },
    {
      "cell_type": "markdown",
      "source": [
        "Tables:\n",
        "```markdown\n",
        "First column name  | Second column name\n",
        "-------------------|------------------\n",
        "Row 1, Col 1       | Row 1, Col 2\n",
        "Row 2, Col 1       | Row 2, Col 2\n",
        "\n",
        "```\n",
        "\n",
        "First column name  | Second column name\n",
        "-------------------|------------------\n",
        "Row 1, Col 1       | Row 1, Col 2\n",
        "Row 2, Col 1       | Row 2, Col 2\n",
        "\n",
        "---\n",
        "\n"
      ],
      "metadata": {
        "id": "h56k74E1do3W"
      }
    },
    {
      "cell_type": "markdown",
      "source": [
        "Horizontal rules:\n",
        "```markdown\n",
        "---\n",
        "```\n",
        "\n",
        "---"
      ],
      "metadata": {
        "id": "LmIOL5bKdqkJ"
      }
    }
  ]
}
