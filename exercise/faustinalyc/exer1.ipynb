{
  "nbformat": 4,
  "nbformat_minor": 0,
  "metadata": {
    "colab": {
      "provenance": [],
      "toc_visible": true,
      "authorship_tag": "ABX9TyP91fnUvs+SOPvG+qSvmOum",
      "include_colab_link": true
    },
    "kernelspec": {
      "name": "python3",
      "display_name": "Python 3"
    },
    "language_info": {
      "name": "python"
    }
  },
  "cells": [
    {
      "cell_type": "markdown",
      "metadata": {
        "id": "view-in-github",
        "colab_type": "text"
      },
      "source": [
        "<a href=\"https://colab.research.google.com/github/drshahizan/python-tutorial/blob/main/exercise/faustinalyc/exer1.ipynb\" target=\"_parent\"><img src=\"https://colab.research.google.com/assets/colab-badge.svg\" alt=\"Open In Colab\"/></a>"
      ]
    },
    {
      "cell_type": "code",
      "execution_count": null,
      "metadata": {
        "id": "-YD3GbckbRCe"
      },
      "outputs": [],
      "source": []
    },
    {
      "cell_type": "markdown",
      "source": [
        "#Name: Lau Yee Chi"
      ],
      "metadata": {
        "id": "Uea6ovbjfsxd"
      }
    },
    {
      "cell_type": "markdown",
      "source": [
        "# Basic Information\n",
        "## Hello World\n",
        "### Hello World\n",
        "#### Hello World\n"
      ],
      "metadata": {
        "id": "SjSLmVvrbYBi"
      }
    },
    {
      "cell_type": "markdown",
      "source": [
        "Charting Your Path in Data and Machine Learning"
      ],
      "metadata": {
        "id": "pPbtkhCjb4wF"
      }
    },
    {
      "cell_type": "code",
      "source": [
        "pip install numpy"
      ],
      "metadata": {
        "colab": {
          "base_uri": "https://localhost:8080/"
        },
        "id": "9YJmMRP_cOc3",
        "outputId": "64b8fe59-d575-4ef2-fd6e-ab9295416af1"
      },
      "execution_count": 3,
      "outputs": [
        {
          "output_type": "stream",
          "name": "stdout",
          "text": [
            "Requirement already satisfied: numpy in /usr/local/lib/python3.10/dist-packages (1.23.5)\n"
          ]
        }
      ]
    },
    {
      "cell_type": "markdown",
      "source": [
        "# Section 1\n",
        "# Section 2\n",
        "## Sub-section under Section 2\n",
        "### Sub-section under the sub-section under Section 2\n",
        "# Section 3"
      ],
      "metadata": {
        "id": "sp_NPgsWcrxb"
      }
    },
    {
      "cell_type": "markdown",
      "source": [
        ">One level of indentation\n"
      ],
      "metadata": {
        "id": "kYJE2Vh1c749"
      }
    },
    {
      "cell_type": "markdown",
      "source": [
        ">>Two levels of indentation"
      ],
      "metadata": {
        "id": "WlKzf9SKdGVo"
      }
    },
    {
      "cell_type": "markdown",
      "source": [
        "```python\n",
        "print(\"a\")\n",
        "```"
      ],
      "metadata": {
        "id": "fv9yQ-krdYNe"
      }
    },
    {
      "cell_type": "markdown",
      "source": [
        "1. One\n",
        "1. Two\n",
        "1. Three"
      ],
      "metadata": {
        "id": "pkghE_AddbOd"
      }
    },
    {
      "cell_type": "markdown",
      "source": [
        "* One\n",
        "* Two\n",
        "* Three"
      ],
      "metadata": {
        "id": "djVHPXs4dday"
      }
    },
    {
      "cell_type": "markdown",
      "source": [
        "$y=x^2$\n",
        "\n",
        "$e^{i\\pi} + 1 = 0$\n",
        "\n",
        "$e^x=\\sum_{i=0}^\\infty \\frac{1}{i!}x^i$\n",
        "\n",
        "$\\frac{n!}{k!(n-k)!} = {n \\choose k}$\n",
        "\n",
        "$A_{m,n} =\n",
        " \\begin{pmatrix}\n",
        "  a_{1,1} & a_{1,2} & \\cdots & a_{1,n} \\\\\n",
        "  a_{2,1} & a_{2,2} & \\cdots & a_{2,n} \\\\\n",
        "  \\vdots  & \\vdots  & \\ddots & \\vdots  \\\\\n",
        "  a_{m,1} & a_{m,2} & \\cdots & a_{m,n}\n",
        " \\end{pmatrix}$"
      ],
      "metadata": {
        "id": "9leOEETEdeN5"
      }
    },
    {
      "cell_type": "markdown",
      "source": [
        "First column name  | Second column name\n",
        "-------------------|------------------\n",
        "Row 1, Col 1       | Row 1, Col 2\n",
        "Row 2, Col 1       | Row 2, Col 2"
      ],
      "metadata": {
        "id": "15MotzfGdjJJ"
      }
    },
    {
      "cell_type": "markdown",
      "source": [
        "---"
      ],
      "metadata": {
        "id": "PNr9FVNmdkOv"
      }
    }
  ]
}