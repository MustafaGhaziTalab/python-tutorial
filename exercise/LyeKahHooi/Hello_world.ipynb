{
  "nbformat": 4,
  "nbformat_minor": 0,
  "metadata": {
    "colab": {
      "provenance": [],
      "toc_visible": true
    },
    "kernelspec": {
      "name": "python3",
      "display_name": "Python 3"
    },
    "language_info": {
      "name": "python"
    }
  },
  "cells": [
    {
      "cell_type": "markdown",
      "source": [
        "# Hello World\n",
        "## Hello World\n",
        "### Hello World\n",
        "#### Hello World\n",
        "\n"
      ],
      "metadata": {
        "id": "WyvEqyFIQIef"
      }
    },
    {
      "cell_type": "markdown",
      "source": [
        "# My Info\n",
        "Name: Lye Kah Hooi\n",
        "\n",
        "Gentle: Female\n",
        "\n",
        "Age: 27\n",
        "\n",
        "Status: Single"
      ],
      "metadata": {
        "id": "Sh9oSg7WQbqc"
      }
    },
    {
      "cell_type": "code",
      "execution_count": 1,
      "metadata": {
        "id": "gmQUqNGqQFlL"
      },
      "outputs": [],
      "source": [
        "import numpy as np"
      ]
    }
  ]
}