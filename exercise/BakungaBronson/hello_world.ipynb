{
  "nbformat": 4,
  "nbformat_minor": 0,
  "metadata": {
    "colab": {
      "provenance": [],
      "toc_visible": true,
      "authorship_tag": "ABX9TyNXHKfnyz5JewD7ALEdMmox",
      "include_colab_link": true
    },
    "kernelspec": {
      "name": "python3",
      "display_name": "Python 3"
    },
    "language_info": {
      "name": "python"
    }
  },
  "cells": [
    {
      "cell_type": "markdown",
      "metadata": {
        "id": "view-in-github",
        "colab_type": "text"
      },
      "source": [
        "<a href=\"https://colab.research.google.com/github/drshahizan/python-tutorial/blob/main/exercise/BakungaBronson/hello_world.ipynb\" target=\"_parent\"><img src=\"https://colab.research.google.com/assets/colab-badge.svg\" alt=\"Open In Colab\"/></a>"
      ]
    },
    {
      "cell_type": "markdown",
      "source": [
        "# Hello World\n",
        "## Hello World\n",
        "### Hello World\n",
        "#### Hello World"
      ],
      "metadata": {
        "id": "TwLAWoUXQaGa"
      }
    },
    {
      "cell_type": "markdown",
      "source": [
        "# My Info\n",
        "My name is Bakunga Bronson"
      ],
      "metadata": {
        "id": "dZqEefOSQkHG"
      }
    },
    {
      "cell_type": "code",
      "execution_count": 1,
      "metadata": {
        "colab": {
          "base_uri": "https://localhost:8080/"
        },
        "id": "rapQ2PKLQY2o",
        "outputId": "2de27fe5-5d30-483e-9a37-9d3d69be6b73"
      },
      "outputs": [
        {
          "output_type": "stream",
          "name": "stdout",
          "text": [
            "600000\n"
          ]
        }
      ],
      "source": [
        "print(30_000 * 20)"
      ]
    },
    {
      "cell_type": "code",
      "source": [
        "pip install pillow"
      ],
      "metadata": {
        "colab": {
          "base_uri": "https://localhost:8080/"
        },
        "id": "Jsx0lNmMQ2HU",
        "outputId": "522f0a81-1d47-42fd-fe7b-a4b6e66f43d3"
      },
      "execution_count": 4,
      "outputs": [
        {
          "output_type": "stream",
          "name": "stdout",
          "text": [
            "Requirement already satisfied: pillow in /usr/local/lib/python3.10/dist-packages (9.4.0)\n"
          ]
        }
      ]
    }
  ]
}