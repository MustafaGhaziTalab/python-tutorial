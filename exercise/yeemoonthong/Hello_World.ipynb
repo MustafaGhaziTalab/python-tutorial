{
  "nbformat": 4,
  "nbformat_minor": 0,
  "metadata": {
    "colab": {
      "provenance": [],
      "toc_visible": true
    },
    "kernelspec": {
      "name": "python3",
      "display_name": "Python 3"
    },
    "language_info": {
      "name": "python"
    }
  },
  "cells": [
    {
      "cell_type": "code",
      "execution_count": null,
      "metadata": {
        "id": "FUXtmqkqQEY7"
      },
      "outputs": [],
      "source": []
    },
    {
      "cell_type": "markdown",
      "source": [
        "# Hello World\n",
        "## Hello World\n",
        "### Hello World\n",
        "#### Hello World"
      ],
      "metadata": {
        "id": "3WD4D1csQIMC"
      }
    },
    {
      "cell_type": "markdown",
      "source": [
        "# My Info\n",
        "Name = Thong Yee Moon\n",
        "\n",
        "Nickname = Yvonne\n",
        "\n",
        "Age = 26\n"
      ],
      "metadata": {
        "id": "q5MAwUQ_QcqJ"
      }
    },
    {
      "cell_type": "code",
      "source": [
        "import pandas as pd"
      ],
      "metadata": {
        "id": "lQWina8DQ4CV"
      },
      "execution_count": 1,
      "outputs": []
    }
  ]
}