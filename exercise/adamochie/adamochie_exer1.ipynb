{
  "nbformat": 4,
  "nbformat_minor": 0,
  "metadata": {
    "colab": {
      "provenance": [],
      "authorship_tag": "ABX9TyPOISdXAcVF5V+q9gdvqqB6"
    },
    "kernelspec": {
      "name": "python3",
      "display_name": "Python 3"
    },
    "language_info": {
      "name": "python"
    }
  },
  "cells": [
    {
      "cell_type": "code",
      "execution_count": null,
      "metadata": {
        "id": "RVqVkyF7bQP9"
      },
      "outputs": [],
      "source": []
    },
    {
      "cell_type": "markdown",
      "source": [
        "# Basic Information\n",
        "\n",
        "## Hello World\n",
        "### Hello World\n",
        "### Hello World\n"
      ],
      "metadata": {
        "id": "gSNv5D3GbXuy"
      }
    },
    {
      "cell_type": "markdown",
      "source": [
        "# New Section"
      ],
      "metadata": {
        "id": "wHTDPF9RcFMM"
      }
    },
    {
      "cell_type": "markdown",
      "source": [
        "*Dataset* containing sales data from the mock office supply company."
      ],
      "metadata": {
        "id": "7eJO0j-NcF-F"
      }
    },
    {
      "cell_type": "code",
      "source": [
        "pip install numpy"
      ],
      "metadata": {
        "colab": {
          "base_uri": "https://localhost:8080/"
        },
        "id": "WT1wW4focQiW",
        "outputId": "f62a8502-db1b-43f2-c2d1-7a71a7b8fc65"
      },
      "execution_count": 1,
      "outputs": [
        {
          "output_type": "stream",
          "name": "stdout",
          "text": [
            "Requirement already satisfied: numpy in /usr/local/lib/python3.10/dist-packages (1.23.5)\n"
          ]
        }
      ]
    },
    {
      "cell_type": "markdown",
      "source": [
        "# Section 1\n",
        "# Section 2\n",
        "## Sub-section under Section 2\n",
        "### Sub-section under the sub-section under Section 2\n",
        "# Section 3\n"
      ],
      "metadata": {
        "id": "15385U-DcyA7"
      }
    },
    {
      "cell_type": "markdown",
      "source": [
        ">One level of indentation"
      ],
      "metadata": {
        "id": "BzJP2JlZdBWM"
      }
    },
    {
      "cell_type": "markdown",
      "source": [
        ">>Two levels of indentation"
      ],
      "metadata": {
        "id": "SqTA8vfmdCLr"
      }
    },
    {
      "cell_type": "markdown",
      "source": [
        "```python\n",
        "print(\"a\")\n",
        "```"
      ],
      "metadata": {
        "id": "TvBLg2egdGIb"
      }
    },
    {
      "cell_type": "markdown",
      "source": [
        "1. One\n",
        "1. Two\n",
        "1. Three"
      ],
      "metadata": {
        "id": "mpyIsyJfdZ6-"
      }
    },
    {
      "cell_type": "markdown",
      "source": [
        "* One\n",
        "* Two\n",
        "* Three"
      ],
      "metadata": {
        "id": "WFmmWyNpdoL1"
      }
    },
    {
      "cell_type": "markdown",
      "source": [
        "$y=x^2$\n",
        "\n",
        "$e^{i\\pi} + 1 = 0$\n",
        "\n",
        "$e^x=\\sum_{i=0}^\\infty \\frac{1}{i!}x^i$\n",
        "\n",
        "$\\frac{n!}{k!(n-k)!} = {n \\choose k}$\n",
        "\n",
        "$A_{m,n} =\n",
        " \\begin{pmatrix}\n",
        "  a_{1,1} & a_{1,2} & \\cdots & a_{1,n} \\\\\n",
        "  a_{2,1} & a_{2,2} & \\cdots & a_{2,n} \\\\\n",
        "  \\vdots  & \\vdots  & \\ddots & \\vdots  \\\\\n",
        "  a_{m,1} & a_{m,2} & \\cdots & a_{m,n}\n",
        " \\end{pmatrix}$"
      ],
      "metadata": {
        "id": "dinzqVaNdpGV"
      }
    },
    {
      "cell_type": "markdown",
      "source": [
        "First column name  | Second column name\n",
        "-------------------|------------------\n",
        "Row 1, Col 1       | Row 1, Col 2\n",
        "Row 2, Col 1       | Row 2, Col 2"
      ],
      "metadata": {
        "id": "NeucX9pfdrZO"
      }
    },
    {
      "cell_type": "markdown",
      "source": [],
      "metadata": {
        "id": "8GRF65PndtF2"
      }
    }
  ]
}