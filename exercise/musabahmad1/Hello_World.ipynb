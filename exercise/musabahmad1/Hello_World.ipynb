{
  "nbformat": 4,
  "nbformat_minor": 0,
  "metadata": {
    "colab": {
      "provenance": [],
      "toc_visible": true,
      "authorship_tag": "ABX9TyOU2iM0UKD18NIJ01EfEQD4",
      "include_colab_link": true
    },
    "kernelspec": {
      "name": "python3",
      "display_name": "Python 3"
    },
    "language_info": {
      "name": "python"
    }
  },
  "cells": [
    {
      "cell_type": "markdown",
      "metadata": {
        "id": "view-in-github",
        "colab_type": "text"
      },
      "source": [
        "<a href=\"https://colab.research.google.com/github/drshahizan/python-tutorial/blob/main/exercise/musabahmad1/Hello_World.ipynb\" target=\"_parent\"><img src=\"https://colab.research.google.com/assets/colab-badge.svg\" alt=\"Open In Colab\"/></a>"
      ]
    },
    {
      "cell_type": "markdown",
      "source": [],
      "metadata": {
        "id": "PGugP9-JQ_Ef"
      }
    },
    {
      "cell_type": "markdown",
      "source": [
        "#Hello World\n",
        "##Hello World\n",
        "###Hello World\n",
        "####Hello World"
      ],
      "metadata": {
        "id": "BgK8kd-fTqB7"
      }
    },
    {
      "cell_type": "markdown",
      "source": [
        "# New Section"
      ],
      "metadata": {
        "id": "O503IXyJRF1Q"
      }
    },
    {
      "cell_type": "markdown",
      "source": [],
      "metadata": {
        "id": "vHIxheu6Q5Re"
      }
    },
    {
      "cell_type": "code",
      "source": [
        "My Info"
      ],
      "metadata": {
        "id": "aFV4KlK1Qy5o"
      },
      "execution_count": null,
      "outputs": []
    }
  ]
}