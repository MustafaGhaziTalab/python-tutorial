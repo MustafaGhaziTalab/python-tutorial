{
  "nbformat": 4,
  "nbformat_minor": 0,
  "metadata": {
    "colab": {
      "provenance": [],
      "authorship_tag": "ABX9TyO4CXDEkgFXkwFFGZZjs46J",
      "include_colab_link": true
    },
    "kernelspec": {
      "name": "python3",
      "display_name": "Python 3"
    },
    "language_info": {
      "name": "python"
    }
  },
  "cells": [
    {
      "cell_type": "markdown",
      "metadata": {
        "id": "view-in-github",
        "colab_type": "text"
      },
      "source": [
        "<a href=\"https://colab.research.google.com/github/drshahizan/python-tutorial/blob/main/python-tutorial/exercise%20/IzzatHaqeemi/IzzatHaqeemi.ipynb\" target=\"_parent\"><img src=\"https://colab.research.google.com/assets/colab-badge.svg\" alt=\"Open In Colab\"/></a>"
      ]
    },
    {
      "cell_type": "code",
      "execution_count": null,
      "metadata": {
        "id": "jQyZKWk8bPxK"
      },
      "outputs": [],
      "source": []
    },
    {
      "cell_type": "markdown",
      "source": [
        "#IZZAT HAQEEMI"
      ],
      "metadata": {
        "id": "mq3FE7ipfo72"
      }
    },
    {
      "cell_type": "markdown",
      "source": [
        "# Basic Information\n",
        "\n",
        "## Hello World\n",
        "\n",
        "### Helo World\n",
        "\n",
        "#### Helo World"
      ],
      "metadata": {
        "id": "kcfpNaStbRxv"
      }
    },
    {
      "cell_type": "markdown",
      "source": [
        "**Google Colab**, short for Google Colaboratory, is a free cloud-based platform that provides a convenient environment for machine learning and data science enthusiasts. It offers a Jupyter Notebook-like interface, allowing users to run and write code in Python through their web browsers without the need for any setup. Colab comes equipped with access to powerful GPUs, making it ideal for resource-intensive tasks like deep learning and large-scale data analysis. With easy sharing options, collaborative features, and integration with Google Drive, it's a versatile tool for individuals and teams to experiment, prototype, and develop projects without the hassle of configuring local environments.\n"
      ],
      "metadata": {
        "id": "aqFtQZXDcHSR"
      }
    },
    {
      "cell_type": "markdown",
      "source": [
        ">One level of indentation\n",
        "\n",
        ">>Two levels of indentation\n",
        "\n",
        "<br>\n",
        "<br>\n",
        "\n",
        "```python\n",
        "print(\"a\")\n",
        "\n",
        "```\n",
        "\n",
        "<br>\n",
        "<br>\n",
        "\n",
        "1. One\n",
        "1. Two\n",
        "1. Three\n",
        "\n",
        "<br>\n",
        "<br>\n",
        "\n",
        "* One\n",
        "* Two\n",
        "* Three\n",
        "\n",
        "<br>\n",
        "<br>\n",
        "\n",
        "$y=x^2$\n",
        "\n",
        "$e^{i\\pi} + 1 = 0$\n",
        "\n",
        "$e^x=\\sum_{i=0}^\\infty \\frac{1}{i!}x^i$\n",
        "\n",
        "$\\frac{n!}{k!(n-k)!} = {n \\choose k}$\n",
        "\n",
        "$A_{m,n} =\n",
        " \\begin{pmatrix}\n",
        "  a_{1,1} & a_{1,2} & \\cdots & a_{1,n} \\\\\n",
        "  a_{2,1} & a_{2,2} & \\cdots & a_{2,n} \\\\\n",
        "  \\vdots  & \\vdots  & \\ddots & \\vdots  \\\\\n",
        "  a_{m,1} & a_{m,2} & \\cdots & a_{m,n}\n",
        " \\end{pmatrix}$\n",
        "\n",
        "<br>\n",
        "<br>\n",
        "\n",
        " First column name  | Second column name\n",
        "-------------------|------------------\n",
        "Row 1, Col 1       | Row 1, Col 2\n",
        "Row 2, Col 1       | Row 2, Col 2\n",
        "\n",
        "<br>\n",
        "<br>\n",
        "\n",
        "---"
      ],
      "metadata": {
        "id": "XnaenqAbcOy7"
      }
    },
    {
      "cell_type": "code",
      "source": [],
      "metadata": {
        "id": "CPterKiLdZQV"
      },
      "execution_count": null,
      "outputs": []
    },
    {
      "cell_type": "code",
      "source": [],
      "metadata": {
        "id": "GUtv3qtFd6Vc"
      },
      "execution_count": null,
      "outputs": []
    }
  ]
}