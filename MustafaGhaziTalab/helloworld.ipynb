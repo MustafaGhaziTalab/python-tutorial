{
  "nbformat": 4,
  "nbformat_minor": 0,
  "metadata": {
    "colab": {
      "provenance": [],
      "toc_visible": true,
      "authorship_tag": "ABX9TyOb6iFPQNYIE1iN6e43misu",
      "include_colab_link": true
    },
    "kernelspec": {
      "name": "python3",
      "display_name": "Python 3"
    },
    "language_info": {
      "name": "python"
    }
  },
  "cells": [
    {
      "cell_type": "markdown",
      "metadata": {
        "id": "view-in-github",
        "colab_type": "text"
      },
      "source": [
        "<a href=\"https://colab.research.google.com/github/MustafaGhaziTalab/python-tutorial/blob/main/MustafaGhaziTalab/helloworld.ipynb\" target=\"_parent\"><img src=\"https://colab.research.google.com/assets/colab-badge.svg\" alt=\"Open In Colab\"/></a>"
      ]
    },
    {
      "cell_type": "code",
      "execution_count": 2,
      "metadata": {
        "id": "KuV9P2yYQKIT"
      },
      "outputs": [],
      "source": [
        "# hello Word\n",
        "##"
      ]
    },
    {
      "cell_type": "markdown",
      "source": [],
      "metadata": {
        "id": "pQFF3ZjHQkLd"
      }
    },
    {
      "cell_type": "markdown",
      "source": [
        "#Hello Word\n",
        "## Hello Word\n",
        "## Hello Word\n"
      ],
      "metadata": {
        "id": "O0bJ9_vAQNE-"
      }
    },
    {
      "cell_type": "markdown",
      "source": [
        "# My info\n",
        "\\pythonme\n"
      ],
      "metadata": {
        "id": "--lYLyENQw-_"
      }
    },
    {
      "cell_type": "markdown",
      "source": [
        "# New section"
      ],
      "metadata": {
        "id": "KeTFMXNWSvdZ"
      }
    },
    {
      "cell_type": "markdown",
      "source": [],
      "metadata": {
        "id": "e-AM_ZJsQ7t6"
      }
    }
  ]
}